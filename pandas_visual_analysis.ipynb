{
 "cells": [
  {
   "cell_type": "code",
   "execution_count": 2,
   "id": "b9dd68ea-731e-4fd4-9fd2-88944ad81416",
   "metadata": {},
   "outputs": [
    {
     "data": {
      "application/vnd.jupyter.widget-view+json": {
       "model_id": "d8e24f0974e94d9abe8d2b6e8f7f58ba",
       "version_major": 2,
       "version_minor": 0
      },
      "text/plain": [
       "VBox(children=(ToggleButtons(_dom_classes=('layout-76176234f17f431a9b900b7e52db326b',), description='Selection…"
      ]
     },
     "metadata": {},
     "output_type": "display_data"
    }
   ],
   "source": [
    "from pandas_visual_analysis import VisualAnalysis\n",
    "import pandas as pd\n",
    "df = pd.read_excel('excel_data (82).xlsx')\n",
    "VisualAnalysis(df)"
   ]
  },
  {
   "cell_type": "code",
   "execution_count": null,
   "id": "af55fa2f-2fd2-480b-8821-d754a9bca396",
   "metadata": {},
   "outputs": [],
   "source": []
  }
 ],
 "metadata": {
  "kernelspec": {
   "display_name": "Python 3 (ipykernel)",
   "language": "python",
   "name": "python3"
  },
  "language_info": {
   "codemirror_mode": {
    "name": "ipython",
    "version": 3
   },
   "file_extension": ".py",
   "mimetype": "text/x-python",
   "name": "python",
   "nbconvert_exporter": "python",
   "pygments_lexer": "ipython3",
   "version": "3.9.7"
  }
 },
 "nbformat": 4,
 "nbformat_minor": 5
}
